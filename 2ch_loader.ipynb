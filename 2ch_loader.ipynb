{
 "cells": [
  {
   "cell_type": "markdown",
   "metadata": {
    "deletable": true,
    "editable": true
   },
   "source": [
    "Регулярки"
   ]
  },
  {
   "cell_type": "code",
   "execution_count": 1,
   "metadata": {
    "collapsed": true,
    "deletable": true,
    "editable": true
   },
   "outputs": [],
   "source": [
    "from re import compile, sub\n",
    "\n",
    "def cut(data):\n",
    "    r = compile(r'<.*?>|>>\\d*|\\(OP\\)|&#(\\d*);|&quot;|&gt;|(http|https):.*')\n",
    "    return r.sub('', punctuate_word(punctuate_sent((data))))\n",
    "\n",
    "def punctuate_sent(data):\n",
    "    r = compile(r'([a-zA-Zа-яА-Я])([.!\\?])')\n",
    "    return r.sub(r'\\1. ', data)\n",
    "\n",
    "def punctuate_word(data):\n",
    "    r = compile(r'([a-zA-Zа-яА-Я])([,])')\n",
    "    return r.sub(r'\\1, ', data)\n",
    "\n",
    "def pos_cut(s):\n",
    "    s = sub(r\"ADJF\", \"ADJ\", s)\n",
    "    s = sub(r\"ADVB\", \"ADV\", s)\n",
    "    s = sub(r\"INFN\", \"VERB\", s)\n",
    "    return s\n",
    "\n",
    "def topic_cut(word):\n",
    "    return sub('[^a-zA-Zа-яА-Я]', '', word)\n",
    "\n",
    "def check_for_rus_lan(word):\n",
    "    regex = compile('[А-Яа-я]+$')\n",
    "    if regex.match(word):\n",
    "        return True\n",
    "    return False\n",
    "\n",
    "def check_dirty(word):\n",
    "    regexp = compile(r'уеб|хуё|ёб|пидо|иби|хуй|еба|бля|еби|хуе|хуи|пиз|срал|velf|оеб')\n",
    "    if regexp.search(word):\n",
    "          return True\n",
    "    return False"
   ]
  },
  {
   "cell_type": "markdown",
   "metadata": {
    "deletable": true,
    "editable": true
   },
   "source": [
    "Получение списка тредов доски"
   ]
  },
  {
   "cell_type": "code",
   "execution_count": 3,
   "metadata": {
    "collapsed": false,
    "deletable": true,
    "editable": true
   },
   "outputs": [],
   "source": [
    "from requests import get, exceptions\n",
    "\n",
    "DVACH = 'https://2ch.hk/'\n",
    "BOARD = 'pr'\n",
    "\n",
    "dvach_page = get(DVACH + BOARD + '/catalog.json').json()\n",
    "threads = [i['num'] for i in dvach_page['threads']]"
   ]
  },
  {
   "cell_type": "markdown",
   "metadata": {
    "deletable": true,
    "editable": true
   },
   "source": [
    "Формирование вектора длин постов"
   ]
  },
  {
   "cell_type": "code",
   "execution_count": null,
   "metadata": {
    "collapsed": false,
    "deletable": true,
    "editable": true
   },
   "outputs": [],
   "source": [
    "posts_lengths = []\n",
    "\n",
    "for thread in threads:\n",
    "    try:\n",
    "        thread = get(DVACH +  BOARD + '/res/' + thread + '.json',  timeout=5).json()\n",
    "        [posts_lengths.append(len(list(tokenize(i['comment'])))) for i in thread['threads'][0]['posts'] if len(i['comment']) > 2]\n",
    "    except:\n",
    "        pass"
   ]
  },
  {
   "cell_type": "markdown",
   "metadata": {
    "deletable": true,
    "editable": true
   },
   "source": [
    "Сериализация"
   ]
  },
  {
   "cell_type": "code",
   "execution_count": 8,
   "metadata": {
    "collapsed": false,
    "deletable": true,
    "editable": true
   },
   "outputs": [],
   "source": [
    "subdir = 'pickle'\n",
    "if not path.exists(subdir):\n",
    "    makedirs(subdir)\n",
    "file_path = path.join(subdir, BOARD + '_posts_lengths.pickle')\n",
    "\n",
    "with open(file_path, 'wb') as f:\n",
    "    pickle.dump(posts_lengths, f)"
   ]
  },
  {
   "cell_type": "markdown",
   "metadata": {
    "deletable": true,
    "editable": true
   },
   "source": [
    "Формирование корпуса сообщений доски"
   ]
  },
  {
   "cell_type": "code",
   "execution_count": 5,
   "metadata": {
    "collapsed": false,
    "deletable": true,
    "editable": true
   },
   "outputs": [],
   "source": [
    "from itertools import chain\n",
    "from nltk.tokenize import sent_tokenize\n",
    "\n",
    "documents = []\n",
    "\n",
    "for every_thread in threads:\n",
    "    #try:\n",
    "    thread = get(DVACH +  BOARD + '/res/' + every_thread + '.json', timeout=5).json()\n",
    "    [documents.append(sent_tokenize(cut(i['comment']))) for i in thread['threads'][0]['posts'] if len(cut(i['comment'])) > 2]\n",
    "    #except:\n",
    "    #    pass\n",
    "documents = list(chain.from_iterable(documents))"
   ]
  },
  {
   "cell_type": "code",
   "execution_count": 6,
   "metadata": {
    "collapsed": false,
    "deletable": true,
    "editable": true
   },
   "outputs": [
    {
     "data": {
      "text/plain": [
       "127642"
      ]
     },
     "execution_count": 6,
     "metadata": {},
     "output_type": "execute_result"
    }
   ],
   "source": [
    "len(documents)"
   ]
  },
  {
   "cell_type": "markdown",
   "metadata": {
    "deletable": true,
    "editable": true
   },
   "source": [
    "Сериализация и мердж корпуса"
   ]
  },
  {
   "cell_type": "code",
   "execution_count": 7,
   "metadata": {
    "collapsed": false,
    "deletable": true,
    "editable": true
   },
   "outputs": [],
   "source": [
    "from os import path, makedirs\n",
    "from pickle import dump\n",
    "\n",
    "subdir = 'pickle'\n",
    "if not path.exists(subdir):\n",
    "    makedirs(subdir)\n",
    "file_path = path.join(subdir, BOARD + '.pickle')\n",
    "\n",
    "with open(file_path, 'wb') as f:\n",
    "    dump(documents, f)"
   ]
  },
  {
   "cell_type": "code",
   "execution_count": null,
   "metadata": {
    "collapsed": true,
    "deletable": true,
    "editable": true
   },
   "outputs": [],
   "source": []
  }
 ],
 "metadata": {
  "kernelspec": {
   "display_name": "Python 3",
   "language": "python",
   "name": "python3"
  },
  "language_info": {
   "codemirror_mode": {
    "name": "ipython",
    "version": 3
   },
   "file_extension": ".py",
   "mimetype": "text/x-python",
   "name": "python",
   "nbconvert_exporter": "python",
   "pygments_lexer": "ipython3",
   "version": "3.6.0"
  }
 },
 "nbformat": 4,
 "nbformat_minor": 2
}
