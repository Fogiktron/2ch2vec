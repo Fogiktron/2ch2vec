{
 "cells": [
  {
   "cell_type": "code",
   "execution_count": 1,
   "metadata": {
    "collapsed": false,
    "deletable": true,
    "editable": true
   },
   "outputs": [],
   "source": [
    "#from nltk import download\n",
    "\n",
    "#download()"
   ]
  },
  {
   "cell_type": "code",
   "execution_count": 2,
   "metadata": {
    "collapsed": false,
    "deletable": true,
    "editable": true
   },
   "outputs": [],
   "source": [
    "from nltk import sent_tokenize\n",
    "from gensim.utils import tokenize\n",
    "\n",
    "with open('quaran.txt') as f:\n",
    "    text = f.read().replace('\\n', '')\n",
    "    \n",
    "sentences = [list(tokenize(sent)) for sent in sent_tokenize(text)]"
   ]
  },
  {
   "cell_type": "code",
   "execution_count": 3,
   "metadata": {
    "collapsed": false,
    "deletable": true,
    "editable": true
   },
   "outputs": [],
   "source": [
    "from gensim.models import *\n",
    "\n",
    "min_count = 1\n",
    "size = 50\n",
    "window = 10\n",
    " \n",
    "model = Word2Vec(sentences, min_count=min_count, size=size, window=window,  workers=4)"
   ]
  },
  {
   "cell_type": "code",
   "execution_count": 4,
   "metadata": {
    "collapsed": false,
    "deletable": true,
    "editable": true,
    "scrolled": true
   },
   "outputs": [
    {
     "name": "stdout",
     "output_type": "stream",
     "text": [
      "[('atom', 0.9004787802696228), ('grace', 0.8910990357398987), ('Him', 0.888778030872345), ('servants', 0.8792895674705505), ('mercy', 0.8764598369598389), ('Eat', 0.8549256920814514), ('best', 0.8515028953552246), ('wrongdoers', 0.8507567048072815), ('Friend', 0.8491989374160767), ('path', 0.8486315608024597)]\n"
     ]
    }
   ],
   "source": [
    "try:\n",
    "    print(model.most_similar('Allah'))\n",
    "except KeyError:\n",
    "    print('No such key!')"
   ]
  },
  {
   "cell_type": "code",
   "execution_count": null,
   "metadata": {
    "collapsed": true
   },
   "outputs": [],
   "source": []
  }
 ],
 "metadata": {
  "kernelspec": {
   "display_name": "Python 3",
   "language": "python",
   "name": "python3"
  },
  "language_info": {
   "codemirror_mode": {
    "name": "ipython",
    "version": 3
   },
   "file_extension": ".py",
   "mimetype": "text/x-python",
   "name": "python",
   "nbconvert_exporter": "python",
   "pygments_lexer": "ipython3",
   "version": "3.5.3"
  }
 },
 "nbformat": 4,
 "nbformat_minor": 2
}
