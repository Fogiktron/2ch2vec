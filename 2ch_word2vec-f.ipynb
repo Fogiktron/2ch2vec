{
 "cells": [
  {
   "cell_type": "code",
   "execution_count": null,
   "metadata": {
    "collapsed": true
   },
   "outputs": [],
   "source": [
    "import heapq\n",
    "import numpy as np\n",
    "\n",
    "def ugly_normalize(vecs):\n",
    "    normalizers = np.sqrt((vecs * vecs).sum(axis=1))\n",
    "    normalizers[normalizers == 0] = 1\n",
    "    return (vecs.T / normalizers).T\n",
    "\n",
    "\n",
    "class Embeddings:\n",
    "    def __init__(self, vecsfile, vocabfile=None, normalize=True):\n",
    "        if vocabfile is None: vocabfile = vecsfile.replace(\"npy\", \"vocab\")\n",
    "        self._vecs = np.load(vecsfile)\n",
    "        self._vocab = open(vocabfile).read().split()\n",
    "        if normalize:\n",
    "            self._vecs = ugly_normalize(self._vecs)\n",
    "        self._w2v = {w: i for i, w in enumerate(self._vocab)}\n",
    "\n",
    "    @classmethod\n",
    "    def load(cls, vecsfile, vocabfile=None):\n",
    "        return Embeddings(vecsfile, vocabfile)\n",
    "\n",
    "    def word2vec(self, w):\n",
    "        return self._vecs[self._w2v[w]]\n",
    "\n",
    "    def similar_to_vec(self, v, N=10):\n",
    "        sims = self._vecs.dot(v)\n",
    "        sims = heapq.nlargest(N, zip(sims, self._vocab, self._vecs))\n",
    "        return sims\n",
    "\n",
    "    def most_similar(self, word, N=10):\n",
    "        w = self._vocab.index(word)\n",
    "        sims = self._vecs.dot(self._vecs[w])\n",
    "        sims = heapq.nlargest(N, zip(sims, self._vocab))\n",
    "        return sims"
   ]
  },
  {
   "cell_type": "code",
   "execution_count": null,
   "metadata": {
    "collapsed": true
   },
   "outputs": [],
   "source": [
    "w2vf = Embeddings.load('vecs.npy', 'vecs.vocab')"
   ]
  },
  {
   "cell_type": "code",
   "execution_count": null,
   "metadata": {
    "collapsed": true
   },
   "outputs": [],
   "source": [
    "vocab = w2vf._vocab"
   ]
  }
 ],
 "metadata": {
  "kernelspec": {
   "display_name": "Python 3",
   "language": "python",
   "name": "python3"
  },
  "language_info": {
   "codemirror_mode": {
    "name": "ipython",
    "version": 3
   },
   "file_extension": ".py",
   "mimetype": "text/x-python",
   "name": "python",
   "nbconvert_exporter": "python",
   "pygments_lexer": "ipython3",
   "version": "3.5.3"
  }
 },
 "nbformat": 4,
 "nbformat_minor": 2
}
